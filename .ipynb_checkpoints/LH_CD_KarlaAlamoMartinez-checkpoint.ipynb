{
 "cells": [
  {
   "cell_type": "markdown",
   "id": "2367240b-11d1-4013-ae05-b2800d388768",
   "metadata": {},
   "source": [
    "---\n",
    "---"
   ]
  },
  {
   "cell_type": "markdown",
   "id": "2f2ee7e2-0d7d-44f9-92dc-38020067ab46",
   "metadata": {},
   "source": [
    "# 1. Análise exploratória"
   ]
  },
  {
   "cell_type": "code",
   "execution_count": 1,
   "id": "59cc9371-7b7a-4304-99fb-8ac3109a74b2",
   "metadata": {
    "tags": []
   },
   "outputs": [],
   "source": [
    "import numpy as np\n",
    "import pandas as pd\n",
    "import matplotlib.pyplot as plt\n",
    "import seaborn as sns\n",
    "import pickle\n",
    "\n",
    "import warnings\n",
    "warnings.filterwarnings(\"ignore\")\n"
   ]
  },
  {
   "cell_type": "code",
   "execution_count": 2,
   "id": "079bedaf-c4f3-419f-92c2-d6f11eee6654",
   "metadata": {
    "tags": []
   },
   "outputs": [
    {
     "ename": "FileNotFoundError",
     "evalue": "[Errno 2] No such file or directory: 'teste_indicium_precificacao.csv'",
     "output_type": "error",
     "traceback": [
      "\u001b[0;31m---------------------------------------------------------------------------\u001b[0m",
      "\u001b[0;31mFileNotFoundError\u001b[0m                         Traceback (most recent call last)",
      "Cell \u001b[0;32mIn[2], line 1\u001b[0m\n\u001b[0;32m----> 1\u001b[0m df \u001b[38;5;241m=\u001b[39m pd\u001b[38;5;241m.\u001b[39mread_csv(\u001b[38;5;124m'\u001b[39m\u001b[38;5;124mteste_indicium_precificacao.csv\u001b[39m\u001b[38;5;124m'\u001b[39m)\n\u001b[1;32m      3\u001b[0m df\u001b[38;5;241m.\u001b[39mhead(\u001b[38;5;241m3\u001b[39m)\n",
      "File \u001b[0;32m~/anaconda3/lib/python3.11/site-packages/pandas/io/parsers/readers.py:912\u001b[0m, in \u001b[0;36mread_csv\u001b[0;34m(filepath_or_buffer, sep, delimiter, header, names, index_col, usecols, dtype, engine, converters, true_values, false_values, skipinitialspace, skiprows, skipfooter, nrows, na_values, keep_default_na, na_filter, verbose, skip_blank_lines, parse_dates, infer_datetime_format, keep_date_col, date_parser, date_format, dayfirst, cache_dates, iterator, chunksize, compression, thousands, decimal, lineterminator, quotechar, quoting, doublequote, escapechar, comment, encoding, encoding_errors, dialect, on_bad_lines, delim_whitespace, low_memory, memory_map, float_precision, storage_options, dtype_backend)\u001b[0m\n\u001b[1;32m    899\u001b[0m kwds_defaults \u001b[38;5;241m=\u001b[39m _refine_defaults_read(\n\u001b[1;32m    900\u001b[0m     dialect,\n\u001b[1;32m    901\u001b[0m     delimiter,\n\u001b[0;32m   (...)\u001b[0m\n\u001b[1;32m    908\u001b[0m     dtype_backend\u001b[38;5;241m=\u001b[39mdtype_backend,\n\u001b[1;32m    909\u001b[0m )\n\u001b[1;32m    910\u001b[0m kwds\u001b[38;5;241m.\u001b[39mupdate(kwds_defaults)\n\u001b[0;32m--> 912\u001b[0m \u001b[38;5;28;01mreturn\u001b[39;00m _read(filepath_or_buffer, kwds)\n",
      "File \u001b[0;32m~/anaconda3/lib/python3.11/site-packages/pandas/io/parsers/readers.py:577\u001b[0m, in \u001b[0;36m_read\u001b[0;34m(filepath_or_buffer, kwds)\u001b[0m\n\u001b[1;32m    574\u001b[0m _validate_names(kwds\u001b[38;5;241m.\u001b[39mget(\u001b[38;5;124m\"\u001b[39m\u001b[38;5;124mnames\u001b[39m\u001b[38;5;124m\"\u001b[39m, \u001b[38;5;28;01mNone\u001b[39;00m))\n\u001b[1;32m    576\u001b[0m \u001b[38;5;66;03m# Create the parser.\u001b[39;00m\n\u001b[0;32m--> 577\u001b[0m parser \u001b[38;5;241m=\u001b[39m TextFileReader(filepath_or_buffer, \u001b[38;5;241m*\u001b[39m\u001b[38;5;241m*\u001b[39mkwds)\n\u001b[1;32m    579\u001b[0m \u001b[38;5;28;01mif\u001b[39;00m chunksize \u001b[38;5;129;01mor\u001b[39;00m iterator:\n\u001b[1;32m    580\u001b[0m     \u001b[38;5;28;01mreturn\u001b[39;00m parser\n",
      "File \u001b[0;32m~/anaconda3/lib/python3.11/site-packages/pandas/io/parsers/readers.py:1407\u001b[0m, in \u001b[0;36mTextFileReader.__init__\u001b[0;34m(self, f, engine, **kwds)\u001b[0m\n\u001b[1;32m   1404\u001b[0m     \u001b[38;5;28mself\u001b[39m\u001b[38;5;241m.\u001b[39moptions[\u001b[38;5;124m\"\u001b[39m\u001b[38;5;124mhas_index_names\u001b[39m\u001b[38;5;124m\"\u001b[39m] \u001b[38;5;241m=\u001b[39m kwds[\u001b[38;5;124m\"\u001b[39m\u001b[38;5;124mhas_index_names\u001b[39m\u001b[38;5;124m\"\u001b[39m]\n\u001b[1;32m   1406\u001b[0m \u001b[38;5;28mself\u001b[39m\u001b[38;5;241m.\u001b[39mhandles: IOHandles \u001b[38;5;241m|\u001b[39m \u001b[38;5;28;01mNone\u001b[39;00m \u001b[38;5;241m=\u001b[39m \u001b[38;5;28;01mNone\u001b[39;00m\n\u001b[0;32m-> 1407\u001b[0m \u001b[38;5;28mself\u001b[39m\u001b[38;5;241m.\u001b[39m_engine \u001b[38;5;241m=\u001b[39m \u001b[38;5;28mself\u001b[39m\u001b[38;5;241m.\u001b[39m_make_engine(f, \u001b[38;5;28mself\u001b[39m\u001b[38;5;241m.\u001b[39mengine)\n",
      "File \u001b[0;32m~/anaconda3/lib/python3.11/site-packages/pandas/io/parsers/readers.py:1661\u001b[0m, in \u001b[0;36mTextFileReader._make_engine\u001b[0;34m(self, f, engine)\u001b[0m\n\u001b[1;32m   1659\u001b[0m     \u001b[38;5;28;01mif\u001b[39;00m \u001b[38;5;124m\"\u001b[39m\u001b[38;5;124mb\u001b[39m\u001b[38;5;124m\"\u001b[39m \u001b[38;5;129;01mnot\u001b[39;00m \u001b[38;5;129;01min\u001b[39;00m mode:\n\u001b[1;32m   1660\u001b[0m         mode \u001b[38;5;241m+\u001b[39m\u001b[38;5;241m=\u001b[39m \u001b[38;5;124m\"\u001b[39m\u001b[38;5;124mb\u001b[39m\u001b[38;5;124m\"\u001b[39m\n\u001b[0;32m-> 1661\u001b[0m \u001b[38;5;28mself\u001b[39m\u001b[38;5;241m.\u001b[39mhandles \u001b[38;5;241m=\u001b[39m get_handle(\n\u001b[1;32m   1662\u001b[0m     f,\n\u001b[1;32m   1663\u001b[0m     mode,\n\u001b[1;32m   1664\u001b[0m     encoding\u001b[38;5;241m=\u001b[39m\u001b[38;5;28mself\u001b[39m\u001b[38;5;241m.\u001b[39moptions\u001b[38;5;241m.\u001b[39mget(\u001b[38;5;124m\"\u001b[39m\u001b[38;5;124mencoding\u001b[39m\u001b[38;5;124m\"\u001b[39m, \u001b[38;5;28;01mNone\u001b[39;00m),\n\u001b[1;32m   1665\u001b[0m     compression\u001b[38;5;241m=\u001b[39m\u001b[38;5;28mself\u001b[39m\u001b[38;5;241m.\u001b[39moptions\u001b[38;5;241m.\u001b[39mget(\u001b[38;5;124m\"\u001b[39m\u001b[38;5;124mcompression\u001b[39m\u001b[38;5;124m\"\u001b[39m, \u001b[38;5;28;01mNone\u001b[39;00m),\n\u001b[1;32m   1666\u001b[0m     memory_map\u001b[38;5;241m=\u001b[39m\u001b[38;5;28mself\u001b[39m\u001b[38;5;241m.\u001b[39moptions\u001b[38;5;241m.\u001b[39mget(\u001b[38;5;124m\"\u001b[39m\u001b[38;5;124mmemory_map\u001b[39m\u001b[38;5;124m\"\u001b[39m, \u001b[38;5;28;01mFalse\u001b[39;00m),\n\u001b[1;32m   1667\u001b[0m     is_text\u001b[38;5;241m=\u001b[39mis_text,\n\u001b[1;32m   1668\u001b[0m     errors\u001b[38;5;241m=\u001b[39m\u001b[38;5;28mself\u001b[39m\u001b[38;5;241m.\u001b[39moptions\u001b[38;5;241m.\u001b[39mget(\u001b[38;5;124m\"\u001b[39m\u001b[38;5;124mencoding_errors\u001b[39m\u001b[38;5;124m\"\u001b[39m, \u001b[38;5;124m\"\u001b[39m\u001b[38;5;124mstrict\u001b[39m\u001b[38;5;124m\"\u001b[39m),\n\u001b[1;32m   1669\u001b[0m     storage_options\u001b[38;5;241m=\u001b[39m\u001b[38;5;28mself\u001b[39m\u001b[38;5;241m.\u001b[39moptions\u001b[38;5;241m.\u001b[39mget(\u001b[38;5;124m\"\u001b[39m\u001b[38;5;124mstorage_options\u001b[39m\u001b[38;5;124m\"\u001b[39m, \u001b[38;5;28;01mNone\u001b[39;00m),\n\u001b[1;32m   1670\u001b[0m )\n\u001b[1;32m   1671\u001b[0m \u001b[38;5;28;01massert\u001b[39;00m \u001b[38;5;28mself\u001b[39m\u001b[38;5;241m.\u001b[39mhandles \u001b[38;5;129;01mis\u001b[39;00m \u001b[38;5;129;01mnot\u001b[39;00m \u001b[38;5;28;01mNone\u001b[39;00m\n\u001b[1;32m   1672\u001b[0m f \u001b[38;5;241m=\u001b[39m \u001b[38;5;28mself\u001b[39m\u001b[38;5;241m.\u001b[39mhandles\u001b[38;5;241m.\u001b[39mhandle\n",
      "File \u001b[0;32m~/anaconda3/lib/python3.11/site-packages/pandas/io/common.py:859\u001b[0m, in \u001b[0;36mget_handle\u001b[0;34m(path_or_buf, mode, encoding, compression, memory_map, is_text, errors, storage_options)\u001b[0m\n\u001b[1;32m    854\u001b[0m \u001b[38;5;28;01melif\u001b[39;00m \u001b[38;5;28misinstance\u001b[39m(handle, \u001b[38;5;28mstr\u001b[39m):\n\u001b[1;32m    855\u001b[0m     \u001b[38;5;66;03m# Check whether the filename is to be opened in binary mode.\u001b[39;00m\n\u001b[1;32m    856\u001b[0m     \u001b[38;5;66;03m# Binary mode does not support 'encoding' and 'newline'.\u001b[39;00m\n\u001b[1;32m    857\u001b[0m     \u001b[38;5;28;01mif\u001b[39;00m ioargs\u001b[38;5;241m.\u001b[39mencoding \u001b[38;5;129;01mand\u001b[39;00m \u001b[38;5;124m\"\u001b[39m\u001b[38;5;124mb\u001b[39m\u001b[38;5;124m\"\u001b[39m \u001b[38;5;129;01mnot\u001b[39;00m \u001b[38;5;129;01min\u001b[39;00m ioargs\u001b[38;5;241m.\u001b[39mmode:\n\u001b[1;32m    858\u001b[0m         \u001b[38;5;66;03m# Encoding\u001b[39;00m\n\u001b[0;32m--> 859\u001b[0m         handle \u001b[38;5;241m=\u001b[39m \u001b[38;5;28mopen\u001b[39m(\n\u001b[1;32m    860\u001b[0m             handle,\n\u001b[1;32m    861\u001b[0m             ioargs\u001b[38;5;241m.\u001b[39mmode,\n\u001b[1;32m    862\u001b[0m             encoding\u001b[38;5;241m=\u001b[39mioargs\u001b[38;5;241m.\u001b[39mencoding,\n\u001b[1;32m    863\u001b[0m             errors\u001b[38;5;241m=\u001b[39merrors,\n\u001b[1;32m    864\u001b[0m             newline\u001b[38;5;241m=\u001b[39m\u001b[38;5;124m\"\u001b[39m\u001b[38;5;124m\"\u001b[39m,\n\u001b[1;32m    865\u001b[0m         )\n\u001b[1;32m    866\u001b[0m     \u001b[38;5;28;01melse\u001b[39;00m:\n\u001b[1;32m    867\u001b[0m         \u001b[38;5;66;03m# Binary mode\u001b[39;00m\n\u001b[1;32m    868\u001b[0m         handle \u001b[38;5;241m=\u001b[39m \u001b[38;5;28mopen\u001b[39m(handle, ioargs\u001b[38;5;241m.\u001b[39mmode)\n",
      "\u001b[0;31mFileNotFoundError\u001b[0m: [Errno 2] No such file or directory: 'teste_indicium_precificacao.csv'"
     ]
    }
   ],
   "source": [
    "df = pd.read_csv('teste_indicium_precificacao.csv')\n",
    "\n",
    "df.head(3)"
   ]
  },
  {
   "cell_type": "code",
   "execution_count": null,
   "id": "90f2a9c3-c113-4248-a0a0-42463f4d4e58",
   "metadata": {
    "tags": []
   },
   "outputs": [],
   "source": [
    "df.info()"
   ]
  },
  {
   "cell_type": "markdown",
   "id": "515d3204-7d59-4017-8f41-4f9474218c7a",
   "metadata": {},
   "source": [
    "## Limpeza dos dados"
   ]
  },
  {
   "cell_type": "markdown",
   "id": "b31b101a-1d1d-44ae-8b75-428ee6b03fb6",
   "metadata": {},
   "source": [
    "Temos 16 colunas e 48894 linhas. O tipo de dado está correto para todas as variáveis, exceto para o campo 'ultima_review', que deveria ser transformado em Datetype, mas para esta análise não é relevante.\n",
    "\n",
    "Outro campo que não parece relevante para a presente análise é 'host_name'. É importante descartar dados que não são relevantes para evitar o uso desnecessário de memória causado por sua manipulação. \n"
   ]
  },
  {
   "cell_type": "markdown",
   "id": "c0d7c017-1ba2-4bb2-962d-033a51a5bcef",
   "metadata": {},
   "source": [
    "#### Exclusão das duas colunas não relevantes:"
   ]
  },
  {
   "cell_type": "code",
   "execution_count": null,
   "id": "b62d2763-84b3-4142-b362-7194eb0ea093",
   "metadata": {
    "tags": []
   },
   "outputs": [],
   "source": [
    "df.drop(columns=['ultima_review', 'host_name'], inplace=True)"
   ]
  },
  {
   "cell_type": "markdown",
   "id": "c55fcae7-7e04-4d0d-9d5a-fa374b713488",
   "metadata": {},
   "source": [
    "#### Exclusão de linhas com pelo menos um NaN:"
   ]
  },
  {
   "cell_type": "code",
   "execution_count": null,
   "id": "6e0d1100-0fed-462f-8818-33841eb04802",
   "metadata": {
    "tags": []
   },
   "outputs": [],
   "source": [
    "df.dropna(axis=0, how='any', inplace = True) "
   ]
  },
  {
   "cell_type": "code",
   "execution_count": null,
   "id": "98f77da3-e4aa-45b5-a980-c7084b2c1505",
   "metadata": {
    "tags": []
   },
   "outputs": [],
   "source": [
    "df.info()"
   ]
  },
  {
   "cell_type": "markdown",
   "id": "e501b3ad-ea79-47c5-9698-6f034815fec1",
   "metadata": {},
   "source": [
    "## Características: distribuição e faixas das variáveis"
   ]
  },
  {
   "cell_type": "markdown",
   "id": "9addf315-8bdb-48c3-b260-4fcd72d0beb0",
   "metadata": {},
   "source": [
    "Utilizei um pairplot para ter uma ideia das possíveis correlações e das formas das distribuições de cada variável, mas neste caso o gráfico não é útil visualmente."
   ]
  },
  {
   "cell_type": "code",
   "execution_count": null,
   "id": "0c37791b-a141-4500-9493-77be37af9d81",
   "metadata": {
    "tags": []
   },
   "outputs": [],
   "source": [
    "sns.pairplot(df[['price', 'bairro_group', \n",
    "                       'minimo_noites', 'numero_de_reviews', \n",
    "                       'reviews_por_mes', 'disponibilidade_365', \n",
    "                       'room_type']], height = 1.5, markers = '.',\n",
    "                        diag_kind='hist', corner = True);\n"
   ]
  },
  {
   "cell_type": "markdown",
   "id": "cad60239-9f12-4a1b-ae72-e10409211353",
   "metadata": {},
   "source": [
    "#### Exploração visual das variáveis numéricas relevantes."
   ]
  },
  {
   "cell_type": "code",
   "execution_count": null,
   "id": "1d74e187-052f-4771-a74a-2db46068a62c",
   "metadata": {
    "tags": []
   },
   "outputs": [],
   "source": [
    "var_numerica = ['price', 'minimo_noites', 'numero_de_reviews', 'disponibilidade_365']\n",
    "\n",
    "df[var_numerica].hist(bins=15, figsize=(10, 5), color='b', alpha = 0.5, xlabelsize=12, ylabelsize=12)\n",
    "plt.tight_layout();"
   ]
  },
  {
   "cell_type": "markdown",
   "id": "78265148-fe1d-4b33-ac10-76ef7622075e",
   "metadata": {},
   "source": [
    "#### Exploração da variável de interesse: **price**\n",
    "\n",
    "Apresenta uma distribuição assimétrica com valores extremos muito distantes da média.\n"
   ]
  },
  {
   "cell_type": "code",
   "execution_count": null,
   "id": "9bab15f7-c7ae-486f-bdb3-b2c6b0f2f759",
   "metadata": {
    "tags": []
   },
   "outputs": [],
   "source": [
    "\n",
    "fig, ax = plt.subplots(2, figsize=(5, 3), sharex=True,\n",
    "    gridspec_kw={\"height_ratios\": (.4, .6)} )\n",
    "\n",
    "ax[0].boxplot(df['price'], vert=False)\n",
    "ax[0].axis('off')\n",
    "\n",
    "ax[1].hist(df['price'], color= 'b', alpha=0.5)\n",
    "ax[1].set_xlabel('Price')\n",
    "ax[1].set_ylabel('N');\n"
   ]
  },
  {
   "cell_type": "markdown",
   "id": "c5ced789-63a4-499b-a974-b53cc1647cc5",
   "metadata": {},
   "source": [
    "#### Eliminação de valores atípicos"
   ]
  },
  {
   "cell_type": "code",
   "execution_count": null,
   "id": "2fa8139c-2d08-494a-8007-c896fd99f5fa",
   "metadata": {
    "tags": []
   },
   "outputs": [],
   "source": [
    "\n",
    "Q1 = df['price'].quantile(0.25)\n",
    "Q3 = df['price'].quantile(0.75)\n",
    "IQR = Q3 - Q1\n",
    "\n",
    "df_clean = df[((df['price'] > (Q1 - 1.5 * IQR)) & (df['price'] < (Q3 + 1.5 * IQR)))]"
   ]
  },
  {
   "cell_type": "code",
   "execution_count": null,
   "id": "375da473-00dd-4428-a2b2-2cd40e31e6a8",
   "metadata": {
    "tags": []
   },
   "outputs": [],
   "source": [
    "fig, ax = plt.subplots(2, figsize=(5, 3), sharex=True,\n",
    "    gridspec_kw={\"height_ratios\": (.4, .6)} )\n",
    "\n",
    "ax[0].boxplot(df_clean['price'], vert=False)\n",
    "ax[0].axis('off')\n",
    "\n",
    "ax[1].hist(df_clean['price'], color= 'b', alpha=0.5)\n",
    "ax[1].set_xlabel('Price')\n",
    "ax[1].set_ylabel('N');\n"
   ]
  },
  {
   "cell_type": "markdown",
   "id": "b133561d-d5e5-4b12-9e90-341fd86cbee4",
   "metadata": {},
   "source": [
    "#### Comportamento do preço em relação a outras variáveis"
   ]
  },
  {
   "cell_type": "code",
   "execution_count": null,
   "id": "98879af1-73ff-4bd9-b7d7-757d771c6627",
   "metadata": {
    "tags": []
   },
   "outputs": [],
   "source": [
    "# Conhecer os diferentes bairros\n",
    "\n",
    "df_clean['bairro_group'].unique()"
   ]
  },
  {
   "cell_type": "markdown",
   "id": "91fcdece-c2a2-4640-b258-0ea7043d84f2",
   "metadata": {},
   "source": [
    "#### Calcular o valor médio por bairro"
   ]
  },
  {
   "cell_type": "code",
   "execution_count": null,
   "id": "36cf65c3-597e-41dd-87c1-1855edc5a320",
   "metadata": {
    "tags": []
   },
   "outputs": [],
   "source": [
    "\n",
    "df_clean.groupby(['bairro_group'])['price'].mean()"
   ]
  },
  {
   "cell_type": "code",
   "execution_count": null,
   "id": "45ce189c-9bd4-4c57-9306-d39102676985",
   "metadata": {
    "tags": []
   },
   "outputs": [],
   "source": [
    "df_clean.groupby(['bairro_group'])['price'].mean().plot.bar(figsize=(4,2), \n",
    "                                                            xlabel='Bairro Group', \n",
    "                                                            ylabel='Mean Price', \n",
    "                                                            rot = 45, color='orange', \n",
    "                                                            alpha=0.5);\n",
    "\n"
   ]
  },
  {
   "cell_type": "markdown",
   "id": "b0132e06-de0a-49c9-a29a-e073bd5c3e09",
   "metadata": {},
   "source": [
    "#### Distribuição do preço por bairro"
   ]
  },
  {
   "cell_type": "code",
   "execution_count": null,
   "id": "cafe7930-243d-4a28-b234-158f13512271",
   "metadata": {
    "tags": []
   },
   "outputs": [],
   "source": [
    "\n",
    "sns.violinplot(x=\"bairro_group\", y=\"price\", data=df_clean, palette=\"cool\")\n",
    "plt.show()"
   ]
  },
  {
   "cell_type": "markdown",
   "id": "1a7acc81-60a3-4e3e-b088-200f5e901510",
   "metadata": {},
   "source": [
    "#### Média de valor por tipo de acomodação\n"
   ]
  },
  {
   "cell_type": "code",
   "execution_count": null,
   "id": "305b29ed-b8e6-4bdf-b4cb-670e29b2e386",
   "metadata": {
    "tags": []
   },
   "outputs": [],
   "source": [
    "df_clean.groupby(['room_type'])['price'].mean().plot.bar(figsize=(4,2), \n",
    "                                                            xlabel='Room Type', \n",
    "                                                            ylabel='Mean Price', \n",
    "                                                            rot = 45, color='lime', \n",
    "                                                            alpha=0.5);\n"
   ]
  },
  {
   "cell_type": "code",
   "execution_count": null,
   "id": "da83d49a-1ded-4431-9f88-4f464b0fab79",
   "metadata": {
    "tags": []
   },
   "outputs": [],
   "source": [
    "plt.figure(figsize=(10,3))\n",
    "ax =  sns.violinplot(x=\"bairro_group\", y=\"price\", data=df_clean, hue = 'room_type', palette=\"plasma\")\n",
    "ax.set_xlabel('Bairro Group')\n",
    "ax.set_ylabel('Price')\n",
    "ax.legend(loc='upper center', bbox_to_anchor=(0.5, 1.2),\n",
    "          fancybox=True, shadow=True, ncol=5);"
   ]
  },
  {
   "cell_type": "markdown",
   "id": "2190b6ef-5d7f-4fd7-bb4f-f13439d8a87c",
   "metadata": {},
   "source": [
    "Nesta figura, podemos observar a tendência de um preço maior quando se aluga um espaço inteiro, seguido pelo quarto privado e finalizando com o quarto compartilhado com um preço menor."
   ]
  },
  {
   "cell_type": "markdown",
   "id": "94aa2bc4-b4ac-4dc8-9eaf-e01a6328de90",
   "metadata": {},
   "source": [
    "#### Distribuição do mínimo de noites"
   ]
  },
  {
   "cell_type": "code",
   "execution_count": null,
   "id": "30f25196-1b46-4d22-8627-a6188eb9ec7c",
   "metadata": {
    "tags": []
   },
   "outputs": [],
   "source": [
    "\n",
    "plt.hist(df_clean['minimo_noites'][df_clean['minimo_noites']<10], color= 'b', alpha=0.5, bins=10);"
   ]
  },
  {
   "cell_type": "markdown",
   "id": "a8a22926-1c97-4099-9012-abe40a533e3c",
   "metadata": {},
   "source": [
    "## Normalização/Escalação\n",
    "\n",
    "Antes de prosseguir com a construção dos modelos, é necessário escalar ou transformar as variáveis de modo que as variáveis categóricas sejam convertidas em numéricas (cada classe correspondendo a um número), e que as variáveis numéricas tenham todas uma faixa similar para evitar um viés devido a diferentes valores absolutos."
   ]
  },
  {
   "cell_type": "code",
   "execution_count": null,
   "id": "985c7405-e8da-4e9f-99b3-d3d501c1a836",
   "metadata": {
    "tags": []
   },
   "outputs": [],
   "source": [
    "\n",
    "from sklearn.compose import ColumnTransformer\n",
    "from sklearn.preprocessing import OneHotEncoder, StandardScaler\n",
    "from sklearn.pipeline import Pipeline\n",
    "\n",
    "# Definição do conjunto de dados com as variáveis relevantes para o modelo\n",
    "data = df_clean[['latitude', 'longitude', 'price', 'minimo_noites',\n",
    "       'numero_de_reviews', 'reviews_por_mes', 'calculado_host_listings_count',\n",
    "       'disponibilidade_365', 'bairro_group', 'room_type']].copy()\n",
    "\n",
    "# Variáveis independentes\n",
    "X = data.drop(columns=['price'])\n",
    "\n",
    "# Variável dependente (target)\n",
    "y = data['price'].values.reshape(-1,1)\n",
    "\n",
    "\n",
    "OHE = OneHotEncoder() # transformador de variáveis categóricas\n",
    "scaler = StandardScaler() # escalador de faixa de variáveis numéricas\n",
    "\n",
    "# Exclui \"bairro\" porque, ao treinar o modelo com uma fração do conjunto de dados, \n",
    "# há valores na previsão que não foram incluídos no treinamento\n",
    "\n",
    "cat_cols = ['bairro_group', 'room_type'] \n",
    "num_cols = ['latitude', 'longitude', 'minimo_noites','numero_de_reviews', 'reviews_por_mes', 'calculado_host_listings_count',\n",
    "       'disponibilidade_365']\n",
    "\n",
    "\n",
    "transformer = ColumnTransformer([('cat_cols', OHE, cat_cols),\n",
    "                                ('num_cols', scaler, num_cols)])\n"
   ]
  },
  {
   "cell_type": "markdown",
   "id": "bc9f6af5-824a-4982-9697-a940fcb6b082",
   "metadata": {},
   "source": [
    "# Modelo de previsão de preços"
   ]
  },
  {
   "cell_type": "markdown",
   "id": "cd9630c6-8b1d-4180-abd4-5745a40667ab",
   "metadata": {},
   "source": [
    "## Justificação sobre o tipo de modelo (classificação ou regressão linear)\n",
    "\n",
    "A variável que se pretende prever é o preço, que é uma variável numérica contínua, portanto, o tipo de modelo é de regressão linear."
   ]
  },
  {
   "cell_type": "markdown",
   "id": "a1d38d0c-3f19-44e1-9bbd-7ac4a3b0f03a",
   "metadata": {},
   "source": [
    "## Linear regression"
   ]
  },
  {
   "cell_type": "code",
   "execution_count": null,
   "id": "a58e0c24-d69c-4724-b492-96fad6a9039c",
   "metadata": {
    "tags": []
   },
   "outputs": [],
   "source": [
    "from sklearn.linear_model import LinearRegression\n",
    "from sklearn.model_selection import train_test_split\n",
    "\n",
    "linear_reg = LinearRegression() \n",
    "\n",
    "pipeline_linear_reg = Pipeline([(\"preprocessing\", transformer),\n",
    "                (\"regressor\", linear_reg)])  \n",
    "\n",
    "# Separação do conjunto de dados de treinamento e previsão\n",
    "X_train, X_test, y_train, y_test = train_test_split(X, y, test_size=0.3, random_state=0)\n",
    "\n",
    "# Ajuste\n",
    "pipeline_linear_reg.fit(X_train,y_train)\n",
    "\n"
   ]
  },
  {
   "cell_type": "markdown",
   "id": "f3e47250-31d0-4a61-9100-10d2316cb1af",
   "metadata": {},
   "source": [
    "### Avaliação de modelo regressão linear"
   ]
  },
  {
   "cell_type": "code",
   "execution_count": null,
   "id": "6eb3d746-94cd-4572-8155-bc7e68e37c56",
   "metadata": {
    "tags": []
   },
   "outputs": [],
   "source": [
    "from sklearn.metrics import mean_squared_error, r2_score\n",
    "\n",
    "y_pred = pipeline_linear_reg.predict(X_test)\n",
    "\n",
    "mse = mean_squared_error(y_test, y_pred)\n",
    "r2 = r2_score(y_test, y_pred)\n",
    "\n",
    "print('Erro quadrático médio (MSE): {:.2f}'.format(mse))\n",
    "print('r2: {:.2f}'.format(r2))\n"
   ]
  },
  {
   "cell_type": "code",
   "execution_count": null,
   "id": "1077e983-a323-4474-8421-36db78fc39b7",
   "metadata": {
    "tags": []
   },
   "outputs": [],
   "source": [
    "fig, ax = plt.subplots(figsize=(6,6))\n",
    "\n",
    "ax.plot(X['minimo_noites'].values, y, 'ob', alpha=0.3)\n",
    "plt.plot(X_test['minimo_noites'].values, y_pred, '^', color='orange', ms=6, alpha=0.5)\n",
    "ax.set_xlabel('minimo_noites')\n",
    "ax.set_ylabel('price');"
   ]
  },
  {
   "cell_type": "code",
   "execution_count": null,
   "id": "116c5fe5-f3ba-41d7-b71a-6a312fa8e4ce",
   "metadata": {
    "tags": []
   },
   "outputs": [],
   "source": [
    "with open('modelo_regresion_lineal_multiple.pkl', 'wb') as file:\n",
    "    pickle.dump(pipeline_linear_reg, file)"
   ]
  },
  {
   "cell_type": "markdown",
   "id": "20648648-04aa-469f-97a5-084a61a563f1",
   "metadata": {},
   "source": [
    "## Random Forest Regressor"
   ]
  },
  {
   "cell_type": "code",
   "execution_count": null,
   "id": "de6d0a81-7113-49a4-af13-c46000d45ba3",
   "metadata": {
    "tags": []
   },
   "outputs": [],
   "source": [
    "from sklearn.ensemble import RandomForestRegressor\n",
    "\n",
    "forest_reg = RandomForestRegressor() \n",
    "\n",
    "pipeline_forest_reg = Pipeline([(\"preprocessing\", transformer),\n",
    "                (\"regressor\", forest_reg)])  \n",
    "\n",
    "# A linha é comentada para comparar entre modelos treinados exatamente com os mesmos dados:\n",
    "#X_train, X_test, y_train, y_test = train_test_split(X, y, test_size=0.3, random_state=0)\n",
    "\n",
    "pipeline_forest_reg.fit(X_train,y_train)\n"
   ]
  },
  {
   "cell_type": "markdown",
   "id": "a8a858a5-5a8f-4bca-b85b-98e9d2fae35c",
   "metadata": {},
   "source": [
    "### Avaliação de modelo regressor de floresta aleatória"
   ]
  },
  {
   "cell_type": "code",
   "execution_count": null,
   "id": "3fce061e-9fd8-40d5-be7e-9ae6b600763e",
   "metadata": {
    "tags": []
   },
   "outputs": [],
   "source": [
    "y_pred = pipeline_forest_reg.predict(X_test)\n",
    "\n",
    "mse_forest = mean_squared_error(y_test, y_pred)\n",
    "r2_forest = r2_score(y_test, y_pred)\n",
    "\n",
    "print('Erro quadrático médio (MSE): {:.2f}'.format(mse_forest))\n",
    "print('r2: {:.2f}'.format(r2_forest))\n"
   ]
  },
  {
   "cell_type": "code",
   "execution_count": null,
   "id": "5ecbbc39-e374-4350-937b-62726b09cfd2",
   "metadata": {
    "tags": []
   },
   "outputs": [],
   "source": [
    "fig, ax = plt.subplots(figsize=(6,6))\n",
    "\n",
    "ax.plot(X['minimo_noites'].values, y, 'ob', alpha=0.3)\n",
    "plt.plot(X_test['minimo_noites'].values, y_pred, '^', color='orange', ms=6, alpha=0.5)\n",
    "ax.set_xlabel('minimo_noites')\n",
    "ax.set_ylabel('price');"
   ]
  },
  {
   "cell_type": "code",
   "execution_count": null,
   "id": "510a235b-0659-4d67-9342-d9c3d99e172f",
   "metadata": {
    "tags": []
   },
   "outputs": [],
   "source": [
    "with open('modelo_forest.pkl', 'wb') as file:\n",
    "    pickle.dump(pipeline_forest_reg, file)"
   ]
  },
  {
   "cell_type": "markdown",
   "id": "3bf83ed0-0364-460d-b875-f8795f21c3de",
   "metadata": {},
   "source": [
    "---\n",
    "---\n",
    "\n",
    "# Respostas a perguntas\n",
    "\n",
    "A seguir, respondo às perguntas especificadas no desafio, as quais são baseadas na análise prévia."
   ]
  },
  {
   "cell_type": "markdown",
   "id": "23caae79-58ef-4d3f-892f-b2b44424ed1b",
   "metadata": {},
   "source": [
    "#### Supondo que uma pessoa esteja pensando em investir em um apartamento para alugar na plataforma, onde seria mais indicada a compra? \n",
    "\n",
    "Manhattan\n"
   ]
  },
  {
   "cell_type": "markdown",
   "id": "64a596bd-e363-4ed9-b87b-260f8109f80e",
   "metadata": {},
   "source": [
    "#### O número mínimo de noites e a disponibilidade ao longo do ano interferem no preço? \n",
    "\n",
    "Não, ao aplicar regressão linear simples com cada uma das variáveis"
   ]
  },
  {
   "cell_type": "code",
   "execution_count": null,
   "id": "1d56fe5e-0907-4b93-a7ea-5d4073353617",
   "metadata": {
    "tags": []
   },
   "outputs": [],
   "source": [
    "X1 = data['minimo_noites'].values.reshape(-1,1)\n",
    "\n",
    "lr_1 = LinearRegression().fit(X1, y)\n",
    "\n",
    "m = lr_1.coef_[0]\n",
    "b = lr_1.intercept_[0]\n",
    "z = np.linspace(X1.min(), X1.max(), 10)\n",
    "\n",
    "fig, ax = plt.subplots(figsize=(6,6))\n",
    "ax.plot(X1, y, 'ok', alpha=0.3)\n",
    "ax.plot(z, m*z + b, ls='--', color='r', lw=3)\n",
    "ax.set_xlabel('minimo_noites')\n",
    "ax.set_ylabel('price')\n",
    "plt.show()"
   ]
  },
  {
   "cell_type": "code",
   "execution_count": null,
   "id": "a03ab32d-d006-4dd7-acb7-99e2d4eb2dd1",
   "metadata": {
    "tags": []
   },
   "outputs": [],
   "source": [
    "X2 = data['disponibilidade_365'].values.reshape(-1,1)\n",
    "\n",
    "lr_2 = LinearRegression().fit(X2, y)\n",
    "\n",
    "m = lr_2.coef_[0]\n",
    "b = lr_2.intercept_[0]\n",
    "z = np.linspace(X2.min(), X2.max(), 10)\n",
    "\n",
    "fig, ax = plt.subplots(figsize=(6,6))\n",
    "ax.plot(X2, y, 'ok', alpha=0.3)\n",
    "ax.plot(z, m*z + b, ls='--', color='r', lw=3)\n",
    "ax.set_xlabel('disponibilidade_365')\n",
    "ax.set_ylabel('price')\n",
    "plt.show()"
   ]
  },
  {
   "cell_type": "markdown",
   "id": "26b81710-2b5a-4a9d-9231-65e0233a8e02",
   "metadata": {},
   "source": [
    "#### Existe algum padrão no texto do nome do local para lugares de mais alto valor? \n",
    "\n",
    "Para responder a esta pergunta, pode-se fazer uma análise para palavras específicas como 'luxury', 'fancy', 'cozy', entre outras, e indicar com 1 se são mencionadas no nome e 0 se não são. Depois, verificar se existe alguma tendência."
   ]
  },
  {
   "cell_type": "code",
   "execution_count": null,
   "id": "31c6aca4-8a63-4598-a761-295ae1c2497f",
   "metadata": {
    "tags": []
   },
   "outputs": [],
   "source": [
    "# Apenas ordenando os dados, não parece haver tendência\n",
    "\n",
    "df.sort_values(by=['price'], ascending=False)['nome'].head(20)"
   ]
  },
  {
   "cell_type": "markdown",
   "id": "7f3d3a55-5156-43e3-9955-4d82ba286f8e",
   "metadata": {},
   "source": [
    "#### Explique como você faria a previsão do preço a partir dos dados. \n",
    "\n",
    "Primeiro, realizar uma análise exploratória dos dados para compreender o tipo de variáveis, suas características (faixa e distribuição). Posteriormente, eliminar NaNs e dados irrelevantes. Transformar as variáveis categóricas em numéricas e escalar todas as variáveis para uma faixa similar. Por fim, separar o conjunto de dados em conjuntos de treinamento e teste, para treinar o modelo de regressão, uma vez que o preço é uma variável numérica contínua. "
   ]
  },
  {
   "cell_type": "markdown",
   "id": "a438b51e-85ae-47a1-b4c6-d5726f7f2797",
   "metadata": {},
   "source": [
    "#### Quais variáveis e/ou suas transformações você utilizou e por quê?\n",
    "\n",
    "É mencionado acima"
   ]
  },
  {
   "cell_type": "markdown",
   "id": "1c35eb73-9c3a-4a48-b4cb-9bebedf1b010",
   "metadata": {},
   "source": [
    "#### Qual tipo de problema estamos resolvendo (regressão, classificação)?\n",
    "\n",
    "regressão"
   ]
  },
  {
   "cell_type": "markdown",
   "id": "5ddbeb88-643c-4477-a289-e63bd3f140b9",
   "metadata": {},
   "source": [
    "#### Qual modelo melhor se aproxima dos dados e quais seus prós e contras?\n",
    "\n",
    "Modelo de regressão utilizando o algoritmo de Random Forest."
   ]
  },
  {
   "cell_type": "markdown",
   "id": "8ec18af3-af35-4beb-a240-39b6c4062bda",
   "metadata": {},
   "source": [
    "#### Qual medida de performance do modelo foi escolhida e por quê?\n",
    "\n",
    "Erro quadrático médio (MSE) y Coeficiente de Determinação (r$^2$). \n",
    "\n",
    "MSE mede a média dos quadrados das diferenças entre os valores preditos pelo modelo e os valores reais no conjunto de dados de teste. Quanto menor o valor do EQM, melhor o desempenho do modelo. Enquanto que r$^2$ indica a proporção da variabilidade na variável dependente que é explicada pelo modelo. Um valor mais próximo de 1 indica um ajuste melhor do modelo aos dados."
   ]
  },
  {
   "cell_type": "markdown",
   "id": "0d58599c-b6ef-4b5e-a2c7-09742f0216d1",
   "metadata": {},
   "source": [
    "#### Supondo um apartamento com as seguintes características:\n",
    "\n",
    "#### {'id': 2595, 'nome': 'Skylit Midtown Castle', 'host_id': 2845, 'host_name': 'Jennifer', 'bairro_group': 'Manhattan', 'bairro': 'Midtown', 'latitude': 40.75362, 'longitude': -73.98377, 'room_type': 'Entire home/apt', 'price': 225, 'minimo_noites': 1, 'numero_de_reviews': 45, 'ultima_review': '2019-05-21', 'reviews_por_mes': 0.38, 'calculado_host_listings_count': 2, 'disponibilidade_365': 355}\n",
    "\n",
    "#### Qual seria a sua sugestão de preço?"
   ]
  },
  {
   "cell_type": "code",
   "execution_count": null,
   "id": "0cda588e-5233-446f-bd9a-17cf81c0c3f8",
   "metadata": {
    "tags": []
   },
   "outputs": [],
   "source": [
    "data_desafio = [{'id': 2595, 'nome': 'Skylit Midtown Castle', 'host_id': 2845, 'host_name': 'Jennifer', 'bairro_group': 'Manhattan', 'bairro': 'Midtown', 'latitude': 40.75362, 'longitude': -73.98377, 'room_type': 'Entire home/apt', 'price': 225, 'minimo_noites': 1, 'numero_de_reviews': 45, 'ultima_review': '2019-05-21', 'reviews_por_mes': 0.38, 'calculado_host_listings_count': 2, 'disponibilidade_365': 355}]\n",
    "\n",
    "df_desafio = pd.DataFrame.from_dict(data_desafio)"
   ]
  },
  {
   "cell_type": "code",
   "execution_count": null,
   "id": "37623bd6-11bf-4fe1-8362-69cc4a7c2c72",
   "metadata": {
    "tags": []
   },
   "outputs": [],
   "source": [
    "# Linear regression\n",
    "data_desafio = df_desafio[['latitude', 'longitude', 'minimo_noites','numero_de_reviews', 'reviews_por_mes', 'calculado_host_listings_count',\n",
    "       'disponibilidade_365', 'bairro_group', 'room_type']]\n",
    "\n",
    "\n",
    "price_desafio = pipeline_linear_reg.predict(data_desafio)\n",
    "\n",
    "print('Price using Linear regression: {:.1f}'.format(price_desafio[0][0]))"
   ]
  },
  {
   "cell_type": "code",
   "execution_count": null,
   "id": "3e23ea35-2543-478c-8e30-b4fc6ac5f8ab",
   "metadata": {},
   "outputs": [],
   "source": []
  }
 ],
 "metadata": {
  "kernelspec": {
   "display_name": "Python 3 (ipykernel)",
   "language": "python",
   "name": "python3"
  },
  "language_info": {
   "codemirror_mode": {
    "name": "ipython",
    "version": 3
   },
   "file_extension": ".py",
   "mimetype": "text/x-python",
   "name": "python",
   "nbconvert_exporter": "python",
   "pygments_lexer": "ipython3",
   "version": "3.11.5"
  }
 },
 "nbformat": 4,
 "nbformat_minor": 5
}
